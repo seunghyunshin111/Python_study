{
 "cells": [
  {
   "cell_type": "code",
   "execution_count": null,
   "id": "910cc838",
   "metadata": {},
   "outputs": [],
   "source": [
    "from collections import deque\n",
    "\n",
    "temp = ''\n",
    "goal = '123456780'\n",
    "for _ in range(3):\n",
    "    temp += ''.join(input().split())\n",
    "visited = {s: True}\n",
    "adj = [[1, 3], [0, 2, 4], [1, 5], [0, 4, 6], [1, 3, 5, 7], [2, 4, 8], [3, 7], [4, 6, 8], [5, 7]]\n",
    "ans = -1\n",
    "time = 0\n",
    "q = deque().  ## 스택/큐 기능을 모두 가진 deque\n",
    "q.append((s, s.index('0')))\n",
    "next_q = deque()\n",
    "\n",
    "while q or next_q:\n",
    "    if not q:\n",
    "        q = next_q\n",
    "        time += 1\n",
    "        next_q = deque()\n",
    "    now, zero = q.popleft()\n",
    "    if now == goal:\n",
    "        ans = time\n",
    "        break\n",
    "    for a in adj[zero]:\n",
    "        new = list(now)\n",
    "        new[zero], new[a] = new[a], new[zero]\n",
    "        new = ''.join(new)\n",
    "        if new not in visited:\n",
    "            next_q.append((new, a))\n",
    "            visited[new] = True\n",
    "print(ans)"
   ]
  }
 ],
 "metadata": {
  "kernelspec": {
   "display_name": "Python 3",
   "language": "python",
   "name": "python3"
  },
  "language_info": {
   "codemirror_mode": {
    "name": "ipython",
    "version": 3
   },
   "file_extension": ".py",
   "mimetype": "text/x-python",
   "name": "python",
   "nbconvert_exporter": "python",
   "pygments_lexer": "ipython3",
   "version": "3.9.2"
  }
 },
 "nbformat": 4,
 "nbformat_minor": 5
}
